{
 "cells": [
  {
   "cell_type": "code",
   "execution_count": null,
   "id": "b416fab5",
   "metadata": {},
   "outputs": [],
   "source": [
    "#General gradio app\n",
    "import gradio as gr\n",
    "\n",
    "def image(x):\n",
    "    return \"Hello \" + x + \" welcome\"\n",
    "\n",
    "interface = gr.Interface(fn=image,inputs=gr.inputs.Textbox(lines=2,placeholder=\"Enter your name\"),outputs=\"text\")\n",
    "interface.launch()"
   ]
  },
  {
   "cell_type": "code",
   "execution_count": null,
   "id": "5da30d24",
   "metadata": {},
   "outputs": [],
   "source": [
    "# Gradio app to get image input\n",
    "import gradio as gr\n",
    "import numpy as np\n",
    "\n",
    "def image(given_img):\n",
    "    sepia = np.array([[0.393,.769,.189],\n",
    "                      [0.349,.686,.168],\n",
    "                      [0.272,.534,.13]])\n",
    "    sepia = given_img.dot(sepia)\n",
    "    sepia = sepia/sepia.max()\n",
    "    return sepia\n",
    "\n",
    "image_gr = gr.Interface(image,gr.inputs.Image(shape=(200,200)),\"image\").launch()"
   ]
  },
  {
   "cell_type": "code",
   "execution_count": null,
   "id": "64cd6021",
   "metadata": {},
   "outputs": [],
   "source": [
    "# Getting multiple inputs and processing with authentication { username : user and password : superuser}\n",
    "import gradio as gr\n",
    "def BMI(Name,height,weight,Feeling):\n",
    "    bmi_value = int(weight/(height ** 2))\n",
    "    feel = \"😊 - Good\" if (bmi_value in range(16, 26)) else\"😢 - Concentrate on health\"\n",
    "    if Feeling:\n",
    "        feeling = \"He is feeling happy\"\n",
    "    else :\n",
    "        feeling = \"He is feeling bit un-happy\"\n",
    "    return (\"Hi \" + Name + \" Good day \"\"\\n\" \"Your BMI is \" + str(bmi_value)),feel,feeling\n",
    "\n",
    "multiple_gr = gr.Interface(BMI,inputs=[\"text\",gr.inputs.Slider(1,2,label= \"Height in meter\"),\n",
    "                                       gr.inputs.Slider(20,100,label=\"Weight in kg\"),\n",
    "                                      gr.inputs.Checkbox(\"Your feeling today\")],\n",
    "                           outputs=[\"text\",\"text\",\"text\"],\n",
    "                           description=\"Please click flag if any abnormal action is spotted\",live=True,\n",
    "                          theme=\"huggingface\",\n",
    "                          ).launch(debug=True,auth= (\"user\",\"superuser\"))\n"
   ]
  },
  {
   "cell_type": "code",
   "execution_count": null,
   "id": "feef1a31",
   "metadata": {},
   "outputs": [],
   "source": [
    "\n"
   ]
  },
  {
   "cell_type": "code",
   "execution_count": null,
   "id": "b92387ff",
   "metadata": {},
   "outputs": [],
   "source": []
  }
 ],
 "metadata": {
  "kernelspec": {
   "display_name": "Python 3",
   "language": "python",
   "name": "python3"
  },
  "language_info": {
   "codemirror_mode": {
    "name": "ipython",
    "version": 3
   },
   "file_extension": ".py",
   "mimetype": "text/x-python",
   "name": "python",
   "nbconvert_exporter": "python",
   "pygments_lexer": "ipython3",
   "version": "3.8.8"
  }
 },
 "nbformat": 4,
 "nbformat_minor": 5
}
